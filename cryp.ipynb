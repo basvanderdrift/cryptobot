{
 "cells": [
  {
   "cell_type": "code",
   "execution_count": 225,
   "metadata": {},
   "outputs": [],
   "source": [
    "%matplotlib inline\n",
    "import krakenex\n",
    "import pandas as pd\n",
    "import json\n",
    "from datetime import *\n",
    "import matplotlib\n",
    "import matplotlib.pyplot as plt"
   ]
  },
  {
   "cell_type": "code",
   "execution_count": 226,
   "metadata": {},
   "outputs": [],
   "source": [
    "kraken = krakenex.API()\n",
    "kraken.load_key('kraken.key')"
   ]
  },
  {
   "cell_type": "code",
   "execution_count": 241,
   "metadata": {},
   "outputs": [],
   "source": [
    "pair_name = 'XXBTZUSD'\n",
    "last = 1383839436659595694\n",
    "ohlc_xxbtzusd = kraken.query_public('OHLC', {'pair': pair_name, 'interval': 60, 'since': last})"
   ]
  },
  {
   "cell_type": "code",
   "execution_count": 242,
   "metadata": {},
   "outputs": [],
   "source": [
    "last = ohlc_xxbtzusd['result']['last']\n",
    "data = ohlc_xxbtzusd['result'][pair_name]\n",
    "for row in data:\n",
    "    row[0] = datetime.fromtimestamp(row[0])"
   ]
  },
  {
   "cell_type": "code",
   "execution_count": 243,
   "metadata": {},
   "outputs": [
    {
     "data": {
      "text/plain": [
       "1497880800"
      ]
     },
     "execution_count": 243,
     "metadata": {},
     "output_type": "execute_result"
    }
   ],
   "source": [
    "last"
   ]
  },
  {
   "cell_type": "code",
   "execution_count": 244,
   "metadata": {},
   "outputs": [],
   "source": [
    "df = pd.DataFrame(data, columns=['time', 'open', 'high', 'low', 'close', 'vwap', 'volume', 'count'])\n",
    "df.set_index('time', inplace=True)\n",
    "\n",
    "for col in ['open', 'high', 'low', 'close', 'vwap', 'volume']:\n",
    "    df[col] = pd.to_numeric(df[col])"
   ]
  },
  {
   "cell_type": "code",
   "execution_count": 245,
   "metadata": {},
   "outputs": [
    {
     "data": {
      "text/html": [
       "<div>\n",
       "<style>\n",
       "    .dataframe thead tr:only-child th {\n",
       "        text-align: right;\n",
       "    }\n",
       "\n",
       "    .dataframe thead th {\n",
       "        text-align: left;\n",
       "    }\n",
       "\n",
       "    .dataframe tbody tr th {\n",
       "        vertical-align: top;\n",
       "    }\n",
       "</style>\n",
       "<table border=\"1\" class=\"dataframe\">\n",
       "  <thead>\n",
       "    <tr style=\"text-align: right;\">\n",
       "      <th></th>\n",
       "      <th>open</th>\n",
       "      <th>high</th>\n",
       "      <th>low</th>\n",
       "      <th>close</th>\n",
       "      <th>vwap</th>\n",
       "      <th>volume</th>\n",
       "      <th>count</th>\n",
       "    </tr>\n",
       "    <tr>\n",
       "      <th>time</th>\n",
       "      <th></th>\n",
       "      <th></th>\n",
       "      <th></th>\n",
       "      <th></th>\n",
       "      <th></th>\n",
       "      <th></th>\n",
       "      <th></th>\n",
       "    </tr>\n",
       "  </thead>\n",
       "  <tbody>\n",
       "    <tr>\n",
       "      <th>2017-05-20 18:00:00</th>\n",
       "      <td>1981.555</td>\n",
       "      <td>1984.661</td>\n",
       "      <td>1968.000</td>\n",
       "      <td>1984.598</td>\n",
       "      <td>1974.407</td>\n",
       "      <td>281.470669</td>\n",
       "      <td>708</td>\n",
       "    </tr>\n",
       "    <tr>\n",
       "      <th>2017-05-20 19:00:00</th>\n",
       "      <td>1984.598</td>\n",
       "      <td>1997.960</td>\n",
       "      <td>1976.001</td>\n",
       "      <td>1997.098</td>\n",
       "      <td>1986.533</td>\n",
       "      <td>245.740318</td>\n",
       "      <td>576</td>\n",
       "    </tr>\n",
       "    <tr>\n",
       "      <th>2017-05-20 20:00:00</th>\n",
       "      <td>1997.956</td>\n",
       "      <td>2009.862</td>\n",
       "      <td>1990.680</td>\n",
       "      <td>2006.395</td>\n",
       "      <td>2000.625</td>\n",
       "      <td>586.409312</td>\n",
       "      <td>955</td>\n",
       "    </tr>\n",
       "    <tr>\n",
       "      <th>2017-05-20 21:00:00</th>\n",
       "      <td>2006.395</td>\n",
       "      <td>2017.990</td>\n",
       "      <td>2000.005</td>\n",
       "      <td>2014.551</td>\n",
       "      <td>2011.235</td>\n",
       "      <td>275.578096</td>\n",
       "      <td>941</td>\n",
       "    </tr>\n",
       "    <tr>\n",
       "      <th>2017-05-20 22:00:00</th>\n",
       "      <td>2014.552</td>\n",
       "      <td>2034.599</td>\n",
       "      <td>2009.952</td>\n",
       "      <td>2028.997</td>\n",
       "      <td>2020.262</td>\n",
       "      <td>615.483937</td>\n",
       "      <td>782</td>\n",
       "    </tr>\n",
       "  </tbody>\n",
       "</table>\n",
       "</div>"
      ],
      "text/plain": [
       "                         open      high       low     close      vwap  \\\n",
       "time                                                                    \n",
       "2017-05-20 18:00:00  1981.555  1984.661  1968.000  1984.598  1974.407   \n",
       "2017-05-20 19:00:00  1984.598  1997.960  1976.001  1997.098  1986.533   \n",
       "2017-05-20 20:00:00  1997.956  2009.862  1990.680  2006.395  2000.625   \n",
       "2017-05-20 21:00:00  2006.395  2017.990  2000.005  2014.551  2011.235   \n",
       "2017-05-20 22:00:00  2014.552  2034.599  2009.952  2028.997  2020.262   \n",
       "\n",
       "                         volume  count  \n",
       "time                                    \n",
       "2017-05-20 18:00:00  281.470669    708  \n",
       "2017-05-20 19:00:00  245.740318    576  \n",
       "2017-05-20 20:00:00  586.409312    955  \n",
       "2017-05-20 21:00:00  275.578096    941  \n",
       "2017-05-20 22:00:00  615.483937    782  "
      ]
     },
     "execution_count": 245,
     "metadata": {},
     "output_type": "execute_result"
    }
   ],
   "source": [
    "df.head()"
   ]
  },
  {
   "cell_type": "code",
   "execution_count": 231,
   "metadata": {
    "collapsed": true
   },
   "outputs": [],
   "source": [
    "x = kraken.query_public('OHLC', {'pair': pair_name, 'since': last})"
   ]
  },
  {
   "cell_type": "code",
   "execution_count": 232,
   "metadata": {},
   "outputs": [
    {
     "data": {
      "text/plain": [
       "{u'result': {u'last': 1497887460, u'XXBTZUSD': [[1497887520, u'2538.799', u'2539.000', u'2538.799', u'2539.000', u'2538.963', u'0.28831144', 3]]}, u'error': []}"
      ]
     },
     "execution_count": 232,
     "metadata": {},
     "output_type": "execute_result"
    }
   ],
   "source": [
    "x"
   ]
  },
  {
   "cell_type": "code",
   "execution_count": 86,
   "metadata": {},
   "outputs": [
    {
     "data": {
      "text/plain": [
       "1497884640"
      ]
     },
     "execution_count": 86,
     "metadata": {},
     "output_type": "execute_result"
    }
   ],
   "source": [
    "last"
   ]
  },
  {
   "cell_type": "code",
   "execution_count": 87,
   "metadata": {},
   "outputs": [
    {
     "data": {
      "text/plain": [
       "1497884640"
      ]
     },
     "execution_count": 87,
     "metadata": {},
     "output_type": "execute_result"
    }
   ],
   "source": [
    "last"
   ]
  },
  {
   "cell_type": "code",
   "execution_count": null,
   "metadata": {
    "collapsed": true
   },
   "outputs": [],
   "source": []
  }
 ],
 "metadata": {
  "kernelspec": {
   "display_name": "cryptobot",
   "language": "python",
   "name": "cryptobot"
  },
  "language_info": {
   "codemirror_mode": {
    "name": "ipython",
    "version": 2
   },
   "file_extension": ".py",
   "mimetype": "text/x-python",
   "name": "python",
   "nbconvert_exporter": "python",
   "pygments_lexer": "ipython2",
   "version": "2.7.13"
  }
 },
 "nbformat": 4,
 "nbformat_minor": 2
}
